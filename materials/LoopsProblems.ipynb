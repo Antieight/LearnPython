{
 "cells": [
  {
   "cell_type": "markdown",
   "metadata": {},
   "source": [
    "**Задача 1**. Вывести слова первых двух куплетов песни Around The World. https://www.azlyrics.com/lyrics/daftpunk/aroundtheworld.html"
   ]
  },
  {
   "cell_type": "code",
   "execution_count": null,
   "metadata": {
    "collapsed": true
   },
   "outputs": [],
   "source": []
  },
  {
   "cell_type": "markdown",
   "metadata": {},
   "source": [
    "**Задача 2.** На вход подается число **n**. Вывести все числа, кратные 7, и не превосходящие **n**."
   ]
  },
  {
   "cell_type": "code",
   "execution_count": null,
   "metadata": {
    "collapsed": true
   },
   "outputs": [],
   "source": []
  },
  {
   "cell_type": "markdown",
   "metadata": {},
   "source": [
    "**Задача 3.** По данному натуральному числу **n** вывести наибольшее число $k$, такое что $2^k \\leq n$"
   ]
  },
  {
   "cell_type": "code",
   "execution_count": null,
   "metadata": {
    "collapsed": true
   },
   "outputs": [],
   "source": []
  },
  {
   "cell_type": "markdown",
   "metadata": {},
   "source": [
    "**Задача 4.** По данному натуральному числу $n$ вычислить $n!$, где $n! = 1 \\cdot 2\\, ... \\cdot\\, (n-1) \\cdot n$"
   ]
  },
  {
   "cell_type": "code",
   "execution_count": null,
   "metadata": {
    "collapsed": true
   },
   "outputs": [],
   "source": []
  },
  {
   "cell_type": "markdown",
   "metadata": {},
   "source": [
    "**Задача 5.** По данному натуральному числу $n$ вычислить $n!!$, где $n!! = n \\cdot (n - 2) \\cdot \\, ... \\, \\cdot 4 \\cdot 2$ для четных $n$ и $n!! = n \\cdot (n - 2) \\cdot \\, ... \\, \\cdot 3 \\cdot 1$ для нечетных."
   ]
  },
  {
   "cell_type": "code",
   "execution_count": null,
   "metadata": {
    "collapsed": true
   },
   "outputs": [],
   "source": []
  },
  {
   "cell_type": "markdown",
   "metadata": {},
   "source": [
    "**Задача 6.** Посчитать сумму квадратов чисел от 1 до 1000. ($1^2 + 2^2 + ... + 1000^2)$."
   ]
  },
  {
   "cell_type": "code",
   "execution_count": null,
   "metadata": {
    "collapsed": true
   },
   "outputs": [],
   "source": []
  },
  {
   "cell_type": "markdown",
   "metadata": {},
   "source": [
    "**Задача 7.** Написать программу, определяющую, является ли введенное число $n$ простым или составным. Если число составное, программа должна вывести какой-нибудь делитель в качестве доказательства. Иначе вывести $PRIME$."
   ]
  },
  {
   "cell_type": "code",
   "execution_count": null,
   "metadata": {
    "collapsed": true
   },
   "outputs": [],
   "source": []
  },
  {
   "cell_type": "markdown",
   "metadata": {},
   "source": [
    "**Задача 8** Используя код *Задачи 7*, найти разложение на множители введенного числа $n$. Вывести разложение на простые множители в одну строчку через пробел. Например 45 $\\to$ 3 3 5."
   ]
  },
  {
   "cell_type": "code",
   "execution_count": null,
   "metadata": {
    "collapsed": true
   },
   "outputs": [],
   "source": []
  },
  {
   "cell_type": "markdown",
   "metadata": {},
   "source": [
    "**Задача 9.** Дано число $N$. Определить, можно ли представить его в виде суммы квадратов двух целых чисел: $N = k_1^2 + k_2^2$. Если да, вывести числа $k_1, k_2$. Иначе вывести $IMPOSSIBLE$."
   ]
  },
  {
   "cell_type": "code",
   "execution_count": null,
   "metadata": {
    "collapsed": true
   },
   "outputs": [],
   "source": []
  },
  {
   "cell_type": "markdown",
   "metadata": {},
   "source": [
    "**Задача 10$^*$.** (Теорема Лагранжа) Любое натуральное число можно представить в виде суммы не более, чем четырех точных квадратов. По данному числу $N$ вывести от 1 до 4 натуральных чисел, квадраты которых в сумме дают значение $N$."
   ]
  },
  {
   "cell_type": "code",
   "execution_count": null,
   "metadata": {
    "collapsed": true
   },
   "outputs": [],
   "source": []
  },
  {
   "cell_type": "markdown",
   "metadata": {},
   "source": [
    "**Задача 11$^*$.** По заданным натуральным числам $m$ и $n$ вывести период дроби $\\frac{m}{n}$. <br>(Например 1, 3 $\\to$ 3; 13, 33 $\\to$ 39)"
   ]
  },
  {
   "cell_type": "code",
   "execution_count": null,
   "metadata": {
    "collapsed": true
   },
   "outputs": [],
   "source": []
  },
  {
   "cell_type": "markdown",
   "metadata": {},
   "source": [
    "**Задача 12.** Вывести в порядке возрастания те трехзначные числа, квадрат которых заканчивается тремя цифрами, равными этому числу."
   ]
  },
  {
   "cell_type": "code",
   "execution_count": null,
   "metadata": {
    "collapsed": true
   },
   "outputs": [],
   "source": []
  },
  {
   "cell_type": "markdown",
   "metadata": {},
   "source": [
    "**Задача 13.** По данному натуральному числу $n$ вывести $1! + 2! + 3! + ... + n!$. В этой задаче разрешено использовать только один цикл."
   ]
  },
  {
   "cell_type": "code",
   "execution_count": null,
   "metadata": {
    "collapsed": true
   },
   "outputs": [],
   "source": []
  },
  {
   "cell_type": "markdown",
   "metadata": {},
   "source": [
    "** Задача 14. ** По данному натуральному числу $n$ вывести в порядке убывания все трехзначные числа, сумма цифр которых равна $n$."
   ]
  },
  {
   "cell_type": "code",
   "execution_count": null,
   "metadata": {
    "collapsed": true
   },
   "outputs": [],
   "source": []
  },
  {
   "cell_type": "markdown",
   "metadata": {},
   "source": [
    "**Задача 15.** Написать программу, которая рисует равнобедренный треугольник из '@' по заданной высоте $N$.\n",
    "Например для N = 3 должно получиться"
   ]
  },
  {
   "cell_type": "code",
   "execution_count": null,
   "metadata": {
    "collapsed": true
   },
   "outputs": [],
   "source": [
    "#   @ \n",
    "#  @@@\n",
    "# @@@@@"
   ]
  },
  {
   "cell_type": "code",
   "execution_count": null,
   "metadata": {
    "collapsed": true
   },
   "outputs": [],
   "source": []
  },
  {
   "cell_type": "markdown",
   "metadata": {},
   "source": [
    "**Задача 16.** Написать программу, принимающую два числа - $N, M$, и рисующую $N$ треугольников высоты $M$ в столбик. <br>\n",
    "Например 2, 3 $\\to$"
   ]
  },
  {
   "cell_type": "code",
   "execution_count": 2,
   "metadata": {
    "collapsed": true
   },
   "outputs": [],
   "source": [
    "#   @\n",
    "#  @@@\n",
    "# @@@@@\n",
    "#   @\n",
    "#  @@@\n",
    "# @@@@@\n",
    "\n",
    "# (без '#')"
   ]
  },
  {
   "cell_type": "code",
   "execution_count": null,
   "metadata": {
    "collapsed": true
   },
   "outputs": [],
   "source": []
  },
  {
   "cell_type": "markdown",
   "metadata": {},
   "source": [
    "**Задача 17.** Написать программу, принимающую два числа - $N, M$, и рисующую $N$ треугольников высоты $M$ в строчку. <br>\n",
    "Например 2, 3 $\\to$"
   ]
  },
  {
   "cell_type": "code",
   "execution_count": 2,
   "metadata": {
    "collapsed": true
   },
   "outputs": [],
   "source": [
    "#   @     @\n",
    "#  @@@   @@@\n",
    "# @@@@@ @@@@@\n",
    "\n",
    "# (без '#')"
   ]
  },
  {
   "cell_type": "code",
   "execution_count": null,
   "metadata": {
    "collapsed": true
   },
   "outputs": [],
   "source": []
  },
  {
   "cell_type": "markdown",
   "metadata": {},
   "source": [
    "**Задача 18.** Написать программу, принимающую два числа - $N, M$, и рисующую 'елочку' из $N$ этажей, в которой верхний этаж имеет высоту $M$, а каждый следующий - на 1 больше.\n",
    "Пример:"
   ]
  },
  {
   "cell_type": "code",
   "execution_count": 4,
   "metadata": {
    "collapsed": true
   },
   "outputs": [],
   "source": [
    "# (для параметров (2, 3))\n",
    "#\n",
    "#    @\n",
    "#   @@@\n",
    "#  @@@@@\n",
    "#    @\n",
    "#   @@@\n",
    "#  @@@@@\n",
    "# @@@@@@@"
   ]
  },
  {
   "cell_type": "code",
   "execution_count": null,
   "metadata": {
    "collapsed": true
   },
   "outputs": [],
   "source": []
  },
  {
   "cell_type": "markdown",
   "metadata": {},
   "source": [
    "**Задача **"
   ]
  }
 ],
 "metadata": {
  "kernelspec": {
   "display_name": "Python 3",
   "language": "python",
   "name": "python3"
  },
  "language_info": {
   "codemirror_mode": {
    "name": "ipython",
    "version": 3
   },
   "file_extension": ".py",
   "mimetype": "text/x-python",
   "name": "python",
   "nbconvert_exporter": "python",
   "pygments_lexer": "ipython3",
   "version": "3.6.3"
  }
 },
 "nbformat": 4,
 "nbformat_minor": 2
}
