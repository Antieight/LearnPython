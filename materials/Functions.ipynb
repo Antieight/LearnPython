{
 "cells": [
  {
   "cell_type": "markdown",
   "metadata": {},
   "source": [
    "# Functions"
   ]
  },
  {
   "cell_type": "markdown",
   "metadata": {},
   "source": [
    "В питоне есть возможность давать фрагментам кода название и запускать их, указывая имя. Это помогает избавиться от необходимости копировать свой код (принцип DRY = Don't Repeat Yourself), уменьшая размер кода. Также, это делает программу более читаемой и позволяет разбивать задачу на маленькие подзадачи. <br> <br>\n",
    "Основной синтаксис следующий: <br><br>\n",
    "<h6>Способ определить функцию: </h6><br>\n",
    ".**def** function_name(**arg1**, **arg2**, **arg3**): <br>\n",
    ".....\\# function body begins.. <br>\n",
    ".....print(*'hello world'*) <br>\n",
    ".....**return** 123 <br>\n",
    ".....\\# function body ends. <br><br>\n",
    "**def** - ключевое слово (define), на этом моменте питон понимает, что дальше будет описание функции - имя, параметры, тело, **return**. <br>\n",
    "**arg1**, **arg2**, .. --- параметры функции. Фрагмент кода можно будет запустить, указав значения некоторых переменыых, которые могут быть использованы в теле функции. <br>\n",
    "**тело функции** --- тот самый фрагмент кода, которому мы хотим присвоить название.<br>\n",
    "**return** --- ключевое слово, позволяющее вернуть результат выполнения функции в место вызова. (см. примеры) <br> <br>\n",
    "<h6> Способ вызвать функцию </h6><br>\n",
    "**function_name**(arg1_value, arg2_value, arg3_value) <br><br>\n",
    "Чтобы записать результат выполнения функции в переменную, можно вызвать функцию следующим образом:<br>\n",
    "**res** = **function_name**(arg1_value, arg2_value, arg3_value) <br><br>"
   ]
  },
  {
   "cell_type": "markdown",
   "metadata": {},
   "source": [
    "**Пример 1** <br>\n",
    "Определение функции **print_hello_world**, не принимающей параметров, и печатающей одну строку."
   ]
  },
  {
   "cell_type": "code",
   "execution_count": 2,
   "metadata": {},
   "outputs": [
    {
     "name": "stdout",
     "output_type": "stream",
     "text": [
      "hello world!\n"
     ]
    }
   ],
   "source": [
    "def print_hello_world():\n",
    "    print('hello world!')\n",
    "\n",
    "print_hello_world()"
   ]
  },
  {
   "cell_type": "code",
   "execution_count": null,
   "metadata": {},
   "outputs": [],
   "source": []
  },
  {
   "cell_type": "markdown",
   "metadata": {},
   "source": [
    "**Пример 2** <br>\n",
    "Определение функции **print_n_strs**, принимающей $2$ параметра - $n$, $s$, и печатающей $n$ строк $s$."
   ]
  },
  {
   "cell_type": "code",
   "execution_count": 12,
   "metadata": {},
   "outputs": [
    {
     "name": "stdout",
     "output_type": "stream",
     "text": [
      "hello world!\n",
      "hello world!\n",
      "hello world!\n",
      "hello world!\n",
      "hello world!\n"
     ]
    }
   ],
   "source": [
    "def print_n_strs(n, s):\n",
    "    for i in range(n):\n",
    "        print(s)\n",
    "\n",
    "print_n_strs(5, 'hello world!')"
   ]
  },
  {
   "cell_type": "markdown",
   "metadata": {},
   "source": [
    "**Пример 3** <br>\n",
    "Определение функции **return_hello_world**, не принимающей параметров, и возвращающей строку."
   ]
  },
  {
   "cell_type": "code",
   "execution_count": 10,
   "metadata": {},
   "outputs": [
    {
     "name": "stdout",
     "output_type": "stream",
     "text": [
      "hello world\n",
      "hello world\n"
     ]
    }
   ],
   "source": [
    "def return_hello_world():\n",
    "    return 'hello world'\n",
    "\n",
    "my_string = return_hello_world()\n",
    "print(my_string)\n",
    "print(my_string)"
   ]
  },
  {
   "cell_type": "markdown",
   "metadata": {},
   "source": [
    "**Пример 4** <br>\n",
    "Определение функции **drop_vowel_letter**, принимающей строку $s$, состояющую из строчных латинских букв, и возвращающей эту же строку без гласных:"
   ]
  },
  {
   "cell_type": "code",
   "execution_count": 14,
   "metadata": {},
   "outputs": [
    {
     "name": "stdout",
     "output_type": "stream",
     "text": [
      "cngrtltns\n"
     ]
    }
   ],
   "source": [
    "def drop_vowel_letters(s):\n",
    "    the_vowels = ['a', 'e', 'i', 'o', 'u']\n",
    "    chars = list(s)\n",
    "    to_return = ''\n",
    "    for ch in chars:\n",
    "        if ch not in the_vowels:\n",
    "            to_return += ch\n",
    "    return to_return\n",
    "\n",
    "my_string = drop_vowel_letters('congratulations')\n",
    "print(my_string)"
   ]
  },
  {
   "cell_type": "markdown",
   "metadata": {},
   "source": [
    "Функция - та же переменная, просто в ней лежит особое значение:"
   ]
  },
  {
   "cell_type": "code",
   "execution_count": 45,
   "metadata": {},
   "outputs": [
    {
     "name": "stdout",
     "output_type": "stream",
     "text": [
      "<function drop_vowel_letters at 0x7f23d02881e0>\n",
      "<class 'function'>\n"
     ]
    }
   ],
   "source": [
    "print(drop_vowel_letters)\n",
    "print(type(drop_vowel_letters))"
   ]
  },
  {
   "cell_type": "markdown",
   "metadata": {},
   "source": [
    "**Пример настоящего использования.** <br>\n",
    "Сравним следующие участки кода:"
   ]
  },
  {
   "cell_type": "code",
   "execution_count": 20,
   "metadata": {},
   "outputs": [
    {
     "name": "stdout",
     "output_type": "stream",
     "text": [
      "1 \n",
      "1 1 \n",
      "1 2 1 \n",
      "1 3 3 1 \n",
      "1 4 6 4 1 \n"
     ]
    }
   ],
   "source": [
    "for n in range(5):\n",
    "    for k in range(n + 1):\n",
    "        c_n_k = 1\n",
    "        temp = 1\n",
    "        while temp <= n:\n",
    "            c_n_k *= temp\n",
    "            temp += 1\n",
    "        temp = 1\n",
    "        while temp <= k:\n",
    "            c_n_k /= temp\n",
    "            temp += 1\n",
    "        temp = 1\n",
    "        while temp <= (n - k):\n",
    "            c_n_k /= temp\n",
    "            temp += 1\n",
    "        c_n_k = int(c_n_k)\n",
    "        print(c_n_k, end=' ')\n",
    "    print()"
   ]
  },
  {
   "cell_type": "code",
   "execution_count": 19,
   "metadata": {},
   "outputs": [
    {
     "name": "stdout",
     "output_type": "stream",
     "text": [
      "1 \n",
      "1 1 \n",
      "1 2 1 \n",
      "1 3 3 1 \n",
      "1 4 6 4 1 \n"
     ]
    }
   ],
   "source": [
    "def fact(n):\n",
    "    ans = 1\n",
    "    for i in range(1, n + 1):\n",
    "        ans *= i\n",
    "    return ans\n",
    "\n",
    "def cnk(n, k):\n",
    "    return int(fact(n) / fact(k) / fact(n - k))\n",
    "\n",
    "def print_pascal_triangle(height):\n",
    "    for n in range(height):\n",
    "        for k in range(n + 1):\n",
    "            print(cnk(n, k), end=' ')\n",
    "        print()\n",
    "\n",
    "print_pascal_triangle(5)"
   ]
  },
  {
   "cell_type": "markdown",
   "metadata": {},
   "source": [
    "В предыдущем примере становится видно, что функции позволяют делать код читабельнее и короче."
   ]
  },
  {
   "cell_type": "code",
   "execution_count": null,
   "metadata": {},
   "outputs": [],
   "source": []
  },
  {
   "cell_type": "markdown",
   "metadata": {},
   "source": [
    "**Параметры по умолчанию** <br>\n",
    "Есть возможность указать значения параметров функции по умолчанию, то есть те значения, которые функция будет использовать в случае, если при вызове эти значения не были переданы:"
   ]
  },
  {
   "cell_type": "code",
   "execution_count": 38,
   "metadata": {},
   "outputs": [
    {
     "name": "stdout",
     "output_type": "stream",
     "text": [
      "**************************************************\n",
      "**************************************************\n",
      "#######************************************#######\n",
      "#######************************************#######\n",
      "#######************************************#######\n",
      "#######************************************#######\n",
      "#######************************************#######\n",
      "#######************************************#######\n",
      "#######************************************#######\n",
      "**************************************************\n",
      "**************************************************\n",
      "\n",
      "******************************\n",
      "####**********************####\n",
      "####**********************####\n",
      "####**********************####\n",
      "####**********************####\n",
      "******************************\n"
     ]
    }
   ],
   "source": [
    "def print_footbal_field(width=50, height=10):\n",
    "    gates_height = 0.3\n",
    "    gates_width = int(width * 0.15)\n",
    "    between_gates = width - 2 * gates_width\n",
    "    for i in range(height + 1):\n",
    "        if abs(i - height / 2) / height <= gates_height:\n",
    "            print('#' * gates_width + '*' * between_gates + '#' * gates_width)\n",
    "        else:\n",
    "            print('*' * width)\n",
    "print_footbal_field()\n",
    "print()\n",
    "print_footbal_field(30, 5)"
   ]
  },
  {
   "cell_type": "markdown",
   "metadata": {},
   "source": [
    "Мы даже можем явно указывать, какая переменная имеет какое значение. В таком случае порядок не важен."
   ]
  },
  {
   "cell_type": "code",
   "execution_count": 42,
   "metadata": {},
   "outputs": [
    {
     "name": "stdout",
     "output_type": "stream",
     "text": [
      "******************************************************************************************\n",
      "******************************************************************************************\n",
      "#############****************************************************************#############\n",
      "#############****************************************************************#############\n",
      "#############****************************************************************#############\n",
      "#############****************************************************************#############\n",
      "#############****************************************************************#############\n",
      "#############****************************************************************#############\n",
      "#############****************************************************************#############\n",
      "******************************************************************************************\n",
      "******************************************************************************************\n"
     ]
    }
   ],
   "source": [
    "print_footbal_field(height=10, width=90)"
   ]
  },
  {
   "cell_type": "code",
   "execution_count": null,
   "metadata": {},
   "outputs": [],
   "source": []
  }
 ],
 "metadata": {
  "kernelspec": {
   "display_name": "Python 3",
   "language": "python",
   "name": "python3"
  },
  "language_info": {
   "codemirror_mode": {
    "name": "ipython",
    "version": 3
   },
   "file_extension": ".py",
   "mimetype": "text/x-python",
   "name": "python",
   "nbconvert_exporter": "python",
   "pygments_lexer": "ipython3",
   "version": "3.7.1"
  }
 },
 "nbformat": 4,
 "nbformat_minor": 2
}
