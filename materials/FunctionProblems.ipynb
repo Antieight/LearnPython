{
 "cells": [
  {
   "cell_type": "markdown",
   "metadata": {},
   "source": [
    "**Задача 1.** Написать функцию, принимающую положительное целое число $n$ и возвращающую $n!$ "
   ]
  },
  {
   "cell_type": "code",
   "execution_count": null,
   "metadata": {},
   "outputs": [],
   "source": []
  },
  {
   "cell_type": "markdown",
   "metadata": {},
   "source": [
    "**Задача 2.** Написать функцию, принимающую положительные целые числа $n$, $k$, которая вернёт $C_n^k$"
   ]
  },
  {
   "cell_type": "code",
   "execution_count": null,
   "metadata": {},
   "outputs": [],
   "source": []
  },
  {
   "cell_type": "markdown",
   "metadata": {},
   "source": [
    "**Задача 3.** Написать функцию, переводящую переданное целое число $n$ в двоичную систему счисления и возвращающую строку из нулей и единиц."
   ]
  },
  {
   "cell_type": "code",
   "execution_count": null,
   "metadata": {},
   "outputs": [],
   "source": []
  },
  {
   "cell_type": "markdown",
   "metadata": {},
   "source": [
    "**Задача 4.** Написать функцию, печатающую список чисел $[a_1, a_2, .., a_n]$ следующим образом: <br>\n",
    "На первой строке - сам список <br>\n",
    "На второй - \"Колличество элементов - n\" <br>\n",
    "На третьей - \"Среднее арифметическое равно = $\\frac{1}{n}\\sum\\limits^n_1a_i$.\" <br>\n",
    "(Необходимо вычислить нужные значения и подставить их вместо формул)"
   ]
  },
  {
   "cell_type": "code",
   "execution_count": null,
   "metadata": {},
   "outputs": [],
   "source": []
  },
  {
   "cell_type": "markdown",
   "metadata": {},
   "source": [
    "**Задача 5.** Написать функцию, упорядочивающую два числа. То есть функция принимает числа $a$, $b$, а возвращает кортеж из двух элементов - первый - наименьшее число из $a$ и $b$, второй $-$ наибольшее."
   ]
  },
  {
   "cell_type": "code",
   "execution_count": null,
   "metadata": {},
   "outputs": [],
   "source": []
  },
  {
   "cell_type": "markdown",
   "metadata": {},
   "source": [
    "**Задача 6.** Вася решил посчитать сумму квадратов таких трехзначных чисел, сумма цифр которых равна $k$. Напишем функцию, решающую эту задачу."
   ]
  },
  {
   "cell_type": "markdown",
   "metadata": {},
   "source": [
    "**6.1** Напишите функцию, возвращающую сумму цифр."
   ]
  },
  {
   "cell_type": "code",
   "execution_count": null,
   "metadata": {},
   "outputs": [],
   "source": [
    "def digits_sum(number):\n",
    "    # your code goes here"
   ]
  },
  {
   "cell_type": "markdown",
   "metadata": {},
   "source": [
    "**6.2** Теперь напишите функцию, принимающую $k$ и возвращающую список трехзначных чисел, чья сумма цифр равна $k$. <small>(Воспользуйтесь функцией digits_sum())</small>"
   ]
  },
  {
   "cell_type": "code",
   "execution_count": null,
   "metadata": {},
   "outputs": [],
   "source": [
    "def get_list_of_k_numbers(k):\n",
    "    # code"
   ]
  },
  {
   "cell_type": "markdown",
   "metadata": {},
   "source": [
    "**6.3** Напишите функцию, принимающую список чисел и возвращающую сумму квадратов этого списка."
   ]
  },
  {
   "cell_type": "code",
   "execution_count": null,
   "metadata": {},
   "outputs": [],
   "source": [
    "def get_sum_of_squares(li):\n",
    "    # code.."
   ]
  },
  {
   "cell_type": "markdown",
   "metadata": {},
   "source": [
    "**6.4** Наконец, используя эти функции, напишите функцию, решающую исходную задачу."
   ]
  },
  {
   "cell_type": "code",
   "execution_count": null,
   "metadata": {},
   "outputs": [],
   "source": [
    "def get_answer(k):\n",
    "    # code.."
   ]
  },
  {
   "cell_type": "markdown",
   "metadata": {},
   "source": [
    "**Задача 7** Напишем функции, с помощью которых можно печатать разные комбинации геометрических фигур."
   ]
  },
  {
   "cell_type": "markdown",
   "metadata": {},
   "source": [
    "**7.1** Напишите функции **draw_triangle(height, shape=0)**, принимающий высоту (height) и форму и рисующий соответствующий треугольник. Всего нужно реализовать две формы $-$ 0 - нарисовать равнобедренный треугольник; 1 - нарисовать прямоугольный треугольник. В каждом варианте треугольник должен *расширяться вниз*."
   ]
  },
  {
   "cell_type": "code",
   "execution_count": null,
   "metadata": {},
   "outputs": [],
   "source": [
    "#draw_triangle(3)\n",
    "#|\n",
    "#|    #\n",
    "#|  # # # \n",
    "#|# # # # #\n",
    "#|\n",
    "\n",
    "#draw_triangle(4, 1)\n",
    "#| #\n",
    "#| # #\n",
    "#| # # # \n",
    "#| # # # # \n",
    "#|"
   ]
  },
  {
   "cell_type": "code",
   "execution_count": null,
   "metadata": {},
   "outputs": [],
   "source": [
    "def draw_triangle(height, shape=0):\n",
    "    # code ..\n",
    "    pass"
   ]
  },
  {
   "cell_type": "markdown",
   "metadata": {},
   "source": [
    "**7.2** Напишите функцию **draw_rectangle(height, width, fill=True)**, принимающий соответствующие параметры. Переменная **fill** отвечает за *заполненность* прямоугольника."
   ]
  },
  {
   "cell_type": "code",
   "execution_count": 58,
   "metadata": {},
   "outputs": [],
   "source": [
    "#draw_rectangle(3,4)\n",
    "#|\n",
    "#|# # # #\n",
    "#|# # # #  \n",
    "#|# # # #  \n",
    "#|\n",
    "\n",
    "#draw_rectangle(3,4,False)\n",
    "#|\n",
    "#|# # # #\n",
    "#|#     #  \n",
    "#|# # # #  \n",
    "#|\n",
    "def draw_rectangle(height, width, fill=True):\n",
    "    # code ..\n",
    "    pass"
   ]
  },
  {
   "cell_type": "markdown",
   "metadata": {},
   "source": [
    "**7.3\\*** Напишите функцию **draw_circle(radius, fill=True)**, рисующую окружность радиуса **radius**."
   ]
  },
  {
   "cell_type": "code",
   "execution_count": 50,
   "metadata": {},
   "outputs": [
    {
     "name": "stdout",
     "output_type": "stream",
     "text": [
      "                              \n",
      "             @ @ @ @ @ @ @ @      \n",
      "         @ @ @ @ @ @ @ @ @ @ @ @    \n",
      "       @ @ @ @ @ @ @ @ @ @ @ @ @ @   \n",
      "     @ @ @ @ @ @ @ @ @ @ @ @ @ @ @ @  \n",
      "     @ @ @ @ @ @ @ @ @ @ @ @ @ @ @ @  \n",
      "   @ @ @ @ @ @ @ @ @ @ @ @ @ @ @ @ @ @ \n",
      "   @ @ @ @ @ @ @ @ @ @ @ @ @ @ @ @ @ @ \n",
      "   @ @ @ @ @ @ @ @ @ @ @ @ @ @ @ @ @ @ \n",
      "   @ @ @ @ @ @ @ @ @ @ @ @ @ @ @ @ @ @ \n",
      "   @ @ @ @ @ @ @ @ @ @ @ @ @ @ @ @ @ @ \n",
      "   @ @ @ @ @ @ @ @ @ @ @ @ @ @ @ @ @ @ \n",
      "     @ @ @ @ @ @ @ @ @ @ @ @ @ @ @ @  \n",
      "     @ @ @ @ @ @ @ @ @ @ @ @ @ @ @ @  \n",
      "       @ @ @ @ @ @ @ @ @ @ @ @ @ @   \n",
      "         @ @ @ @ @ @ @ @ @ @ @ @    \n",
      "             @ @ @ @ @ @ @ @      \n",
      "                              \n"
     ]
    }
   ],
   "source": [
    "def draw_circle(radius, fill=True):\n",
    "    # code..\n",
    "    pass\n",
    "draw_circle(10)"
   ]
  },
  {
   "cell_type": "markdown",
   "metadata": {},
   "source": [
    "**7.4** Напишите функции **get_triangle(height, shape)**, **get_rectangle(height, width, fill=True**, **get_circle(radius, fill=True)**, не рисующие фигуры, а возвращающие строки, которые при печати создадут нужные фигуры. Например **print(get_rectangle(5,5))** напечатает то же самое, что и **draw_rectangle(5,5)**"
   ]
  },
  {
   "cell_type": "code",
   "execution_count": null,
   "metadata": {},
   "outputs": [],
   "source": []
  },
  {
   "cell_type": "markdown",
   "metadata": {},
   "source": [
    "**7.5** Напишите функцию **print_reversed_right_triangle(height)**, рисующий прямоугольный треугольник, описанный выше, отраженный относительно вертикальной оси."
   ]
  },
  {
   "cell_type": "code",
   "execution_count": null,
   "metadata": {},
   "outputs": [],
   "source": []
  },
  {
   "cell_type": "markdown",
   "metadata": {},
   "source": [
    "**7.6** Напишите функцию **concatenate(s1, s2, shift)**, принимающую на вход две строки **s1** и **s2**, соответствующие картинкам каких-то фигур и целое число **shift**, и возвращающую строку, при печати которой эти картинки печатаются друг за другом, разделенные **shift** пробелами."
   ]
  },
  {
   "cell_type": "code",
   "execution_count": null,
   "metadata": {},
   "outputs": [],
   "source": []
  },
  {
   "cell_type": "markdown",
   "metadata": {},
   "source": [
    "**7.7** Напишите функцию **get_tree(heights, vertical_shift=0)**, принимающую кортеж целых чисел длины $k$ $-$ **heights** и возвращающую строку, при печати которой нарисуется ёлочка, состоящая из $k$ равнобедренных треугольников с высотами из **heights**. Если указан параметр **vertical_shift**, ёлочка должна быть сдвинута вниз на **vertical_shift** строк."
   ]
  },
  {
   "cell_type": "code",
   "execution_count": 57,
   "metadata": {},
   "outputs": [
    {
     "name": "stdout",
     "output_type": "stream",
     "text": [
      "    *\n",
      "  * * *\n",
      "    *\n",
      "  * * *\n",
      "    *\n",
      "  * * *\n",
      "* * * * *\n",
      "\n"
     ]
    }
   ],
   "source": [
    "# example\n",
    "#print(get_tree((2, 2, 3)))\n",
    "#|    *\n",
    "#|  * * *\n",
    "#|    *\n",
    "#|  * * *\n",
    "#|    *\n",
    "#|  * * *\n",
    "#|* * * * *\n",
    "#\n",
    "# that is the string to return is \n",
    "to_return ='    *\\n  * * *\\n    *\\n  * * *\\n    *\\n  * * *\\n* * * * *\\n'\n",
    "print(to_return)"
   ]
  },
  {
   "cell_type": "code",
   "execution_count": null,
   "metadata": {},
   "outputs": [],
   "source": []
  },
  {
   "cell_type": "markdown",
   "metadata": {},
   "source": [
    "**7.8** Напишите функцию **draw_forest(heights_list, shifts)**, принимающую список кортежей длины $n$ $-$ **heights_list** и список отступов длины $(n-1)$ $-$ **shifts** и рисующую лес из $n$ деревьев. Каждое дерево состоит из равнобедренных треугольников, нарисованных друг под другом по правилу из предыдущей задачи."
   ]
  },
  {
   "cell_type": "code",
   "execution_count": null,
   "metadata": {},
   "outputs": [],
   "source": []
  },
  {
   "cell_type": "markdown",
   "metadata": {},
   "source": [
    "**Задача 8** Напишите функцию **pipeline(functions, parameter)**, принимающую список функций **functions = [$f_1, f_2, ..., f_n$]** и переменную **parameter**, и возвращающую **$f_1(f_2(...f_n(parameter))..)$**"
   ]
  },
  {
   "cell_type": "code",
   "execution_count": null,
   "metadata": {},
   "outputs": [],
   "source": [
    "def pipeline(functions, parameter):\n",
    "    # code..\n",
    "    pass"
   ]
  },
  {
   "cell_type": "markdown",
   "metadata": {},
   "source": [
    "**Задача 9** Напишите функцию **get_pipeline_func(functions)**, принимающую список функций **functions** = **[$f_1, f_2, ..., f_n$]** и возвращающую функцию $f_1(f_2(...f_n(x))..)$"
   ]
  },
  {
   "cell_type": "code",
   "execution_count": null,
   "metadata": {},
   "outputs": [],
   "source": [
    "def get_pipeline_func(functions):\n",
    "    # code..\n",
    "    pass"
   ]
  },
  {
   "cell_type": "code",
   "execution_count": null,
   "metadata": {},
   "outputs": [],
   "source": []
  }
 ],
 "metadata": {
  "kernelspec": {
   "display_name": "Python 3",
   "language": "python",
   "name": "python3"
  },
  "language_info": {
   "codemirror_mode": {
    "name": "ipython",
    "version": 3
   },
   "file_extension": ".py",
   "mimetype": "text/x-python",
   "name": "python",
   "nbconvert_exporter": "python",
   "pygments_lexer": "ipython3",
   "version": "3.6.3"
  }
 },
 "nbformat": 4,
 "nbformat_minor": 2
}
