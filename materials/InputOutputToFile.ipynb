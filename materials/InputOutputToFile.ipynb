{
 "cells": [
  {
   "cell_type": "markdown",
   "metadata": {},
   "source": [
    "# Работа с файловой системой"
   ]
  },
  {
   "cell_type": "markdown",
   "metadata": {},
   "source": [
    "### Запись в существующий файл и чтение из файла.\n",
    "Основной синтаксис следующий: \n",
    "для записи строки в файл нужно открыть файл функцией file = **open('path_to_file', 'open_mode')**. <br> <br>\n",
    "**open_mode** означает режим, в котором нужно открыть файл. Для записи необходимо передать 'w'. Для дописывания - 'a'. Для чтения 'r'. Более подробно здесь https://www.tutorialspoint.com/python/python_files_io.htm\n",
    "\n",
    "Основные команды - write, read, readline, readlines, writeline, close.\n",
    "Последнюю команду необходимо выполнить в конце работы с фалйом."
   ]
  },
  {
   "cell_type": "code",
   "execution_count": 7,
   "metadata": {},
   "outputs": [],
   "source": [
    "file = open('a.txt', 'w')\n",
    "file.write('Hell')\n",
    "file.write('o, world!\\n')\n",
    "file.writelines(['abc\\n', 'line2\\n'])\n",
    "file.close()"
   ]
  },
  {
   "cell_type": "code",
   "execution_count": 10,
   "metadata": {},
   "outputs": [],
   "source": [
    "# !cat a.txt"
   ]
  },
  {
   "cell_type": "code",
   "execution_count": 9,
   "metadata": {},
   "outputs": [
    {
     "name": "stdout",
     "output_type": "stream",
     "text": [
      "Hello, world!\n",
      "abc\n",
      "line2\n",
      "\n"
     ]
    }
   ],
   "source": [
    "file = open('a.txt', 'r')\n",
    "print(file.read())\n",
    "file.close()"
   ]
  },
  {
   "cell_type": "code",
   "execution_count": null,
   "metadata": {
    "collapsed": true
   },
   "outputs": [],
   "source": []
  }
 ],
 "metadata": {
  "kernelspec": {
   "display_name": "Python 3",
   "language": "python",
   "name": "python3"
  },
  "language_info": {
   "codemirror_mode": {
    "name": "ipython",
    "version": 3
   },
   "file_extension": ".py",
   "mimetype": "text/x-python",
   "name": "python",
   "nbconvert_exporter": "python",
   "pygments_lexer": "ipython3",
   "version": "3.6.4"
  }
 },
 "nbformat": 4,
 "nbformat_minor": 2
}
