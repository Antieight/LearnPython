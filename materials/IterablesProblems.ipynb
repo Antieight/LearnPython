{
 "cells": [
  {
   "cell_type": "markdown",
   "metadata": {},
   "source": [
    "## Lists"
   ]
  },
  {
   "cell_type": "markdown",
   "metadata": {},
   "source": [
    "**Задача 1** \n",
    "- Написать программу, принимающую на вход строку, состоящую из слов, разделенных пробелами и вывести список всех слов.\n",
    "- Вывести список, состоящий из четных слов в обратном порядке. (['aw', 'bx', 'cy', 'dz'] -> ['dz', 'bx'])\n",
    "- Посчитать общее число букв в нечетных словах.  <br>*(Возможно будет удобно воспользоваться функцией join(): ','.join([' a', 'bcd', 'ef']) = 'a,bcd,ef'; вместо запятой использовать пустую строку)*"
   ]
  },
  {
   "cell_type": "code",
   "execution_count": null,
   "metadata": {
    "collapsed": true
   },
   "outputs": [],
   "source": []
  },
  {
   "cell_type": "markdown",
   "metadata": {},
   "source": [
    "**Задача 2** Написать программу, принимающую на вход строку, состоящую из чисел, разделенных пробелами и вывести список чисел. (123 456 78 -> [123, 456, 78]). Важно, что в итоге каждый элемент полученного списка должен быть числом, а не строкой."
   ]
  },
  {
   "cell_type": "code",
   "execution_count": null,
   "metadata": {
    "collapsed": true
   },
   "outputs": [],
   "source": []
  },
  {
   "cell_type": "markdown",
   "metadata": {},
   "source": [
    "**Задача 3** Написать программу, принимающую (с помощью задачи 2) список чисел и выводящий \n",
    "- Сумму последних четырех чисел\n",
    "- Сумму квадратов чисел на четных позициях\n",
    "- Наибольшее число\n",
    "- Наибольшее число среди всех двузначных чисел списка\n",
    "- Список чисел, встречающихся не больше одного раза\n",
    "- Индексы (список индексов), по которым расположены отрицательные числа"
   ]
  },
  {
   "cell_type": "code",
   "execution_count": null,
   "metadata": {
    "collapsed": true
   },
   "outputs": [],
   "source": []
  },
  {
   "cell_type": "markdown",
   "metadata": {},
   "source": [
    "**Задача 4** Написать программу принимающую число **n** и затем **n** чисел $a_1, a_2, .., a_n$, каждое - с новой строки, и выводяющую список этих чисел."
   ]
  },
  {
   "cell_type": "code",
   "execution_count": null,
   "metadata": {
    "collapsed": true
   },
   "outputs": [],
   "source": []
  },
  {
   "cell_type": "markdown",
   "metadata": {},
   "source": [
    "**Задача 5** Написать программу, принимающую список чисел (как в задаче 2) и выводящую все положительные элементы в порядке возрастания."
   ]
  },
  {
   "cell_type": "code",
   "execution_count": null,
   "metadata": {
    "collapsed": true
   },
   "outputs": [],
   "source": []
  },
  {
   "cell_type": "markdown",
   "metadata": {},
   "source": [
    "**Задача 6** Написать программу, принимающую список строк **a** и выводящую элемент **el**, который чаще всего встречается и колличество его вхождений в **a**."
   ]
  },
  {
   "cell_type": "code",
   "execution_count": null,
   "metadata": {
    "collapsed": true
   },
   "outputs": [],
   "source": []
  },
  {
   "cell_type": "markdown",
   "metadata": {},
   "source": [
    "**Задача 7** Написать программу, принимающую два списка $a = [a_1, a_2, .., a_n]$ и $b = [b_1, b_2, .., b_n]$ одинаковой длины $n$ и выводящую следующие списки:\n",
    "- $[a_1 + b_1, a_2 + b_2, a_3 + b_3, ..., a_n + b_n]$\n",
    "- $[a_1, b_1, a_2, b_2, ..., a_n, b_n]$\n",
    "- $[a_1, b_n, a_2, b_{n-1}, .., a_n, b_1]$"
   ]
  },
  {
   "cell_type": "code",
   "execution_count": null,
   "metadata": {
    "collapsed": true
   },
   "outputs": [],
   "source": []
  },
  {
   "cell_type": "markdown",
   "metadata": {},
   "source": [
    "**Задача 8** Вывести на экран спиок кубов чисел от 1 до 100. (1, 8, 27, ..., 1000000)"
   ]
  },
  {
   "cell_type": "code",
   "execution_count": null,
   "metadata": {
    "collapsed": true
   },
   "outputs": [],
   "source": []
  },
  {
   "cell_type": "markdown",
   "metadata": {},
   "source": [
    "**Задача 9** Написать программу, принимающую список $a = [a_1, a_2, .., a_n]$ четной длины и выводяющую список\n",
    "- $[a_1^{a_2}, a_3^{a_4}, ..., a_{n-1}^{a_n}]$"
   ]
  },
  {
   "cell_type": "code",
   "execution_count": null,
   "metadata": {
    "collapsed": true
   },
   "outputs": [],
   "source": []
  },
  {
   "cell_type": "markdown",
   "metadata": {},
   "source": [
    "**Задача 10** Написать программу, принимающую на вход список чисел **a** на первой строке и число **x** на второй и выводящую **a**, из которого удалили все вхождения **x**. ([1,2,3,1,5] 1 -> [2,3,5])"
   ]
  },
  {
   "cell_type": "code",
   "execution_count": null,
   "metadata": {},
   "outputs": [],
   "source": []
  },
  {
   "cell_type": "markdown",
   "metadata": {},
   "source": [
    "**Задача 11** Написать программу, принимающую на вход список **a** длины **n**, в котором содержатся списки $a_i$ и выводящую список, состоящий из перевернутых $a_i$. <br>\n",
    "#### Формат ввода:\n",
    "- На первой строке - **n** - длина массива **a**\n",
    "- На следующих **n** строках вводятся $a_i$\n",
    "\n",
    "#### Формат вывода:\n",
    "- Полученный массив напечатать стандартной функцией print.\n",
    "\n",
    "#### Пример: <br>\n",
    "3 <br>\n",
    "1 50 3 <br>\n",
    "2 0 <br>\n",
    "-41 6 2 <br>\n",
    "---------- <br>\n",
    "[3, 50, 1, 0, 2, 2, 6, -41]"
   ]
  },
  {
   "cell_type": "code",
   "execution_count": null,
   "metadata": {},
   "outputs": [],
   "source": []
  },
  {
   "cell_type": "markdown",
   "metadata": {},
   "source": [
    "## Dictionaries"
   ]
  },
  {
   "cell_type": "markdown",
   "metadata": {},
   "source": [
    "**Задача 12**. На вход подается строка **s**. Вывести словарь частот встреч символов. <br>\n",
    "#### Пример.\n",
    "\n",
    "in:  '$abcbcbdfb$' <br>\n",
    "out: {'a': 1, 'b': 4, 'c': 2, 'd': 1, 'f': 1}"
   ]
  },
  {
   "cell_type": "code",
   "execution_count": null,
   "metadata": {},
   "outputs": [],
   "source": []
  },
  {
   "cell_type": "markdown",
   "metadata": {},
   "source": [
    "**Задача 13.** На вход подается строка **s**. Вывести обратный словарь частот встреч символов. То есть каждому числу сопоставить список символов,  которые встречаются с этой частотой. <br>\n",
    "#### Пример.\n",
    "\n",
    "in:  '$abcbcbdfb$' <br>\n",
    "out: {1: ['a', 'd', 'f'], 2: ['c'], 4: ['b']}"
   ]
  },
  {
   "cell_type": "code",
   "execution_count": null,
   "metadata": {},
   "outputs": [],
   "source": []
  },
  {
   "cell_type": "markdown",
   "metadata": {},
   "source": [
    "**Задача 14.** Используя код из номера 12 или 13, выведите ответы на следующие вопросы (по введенной строке **s**):\n",
    "- Какой символ встречается чаще других и сколько раз он встретился?\n",
    "- Есть ли символ который встретился ровно 3 раза?\n",
    "- Сколько различных символов встретилось в данной строке?"
   ]
  },
  {
   "cell_type": "code",
   "execution_count": null,
   "metadata": {},
   "outputs": [],
   "source": []
  },
  {
   "cell_type": "markdown",
   "metadata": {},
   "source": [
    "**Задача 15.** Написать программу, принимающую список слов и группирующую их по первой букве и выводящую соответствующий словарь. <br>\n",
    "#### Пример.\n",
    "\n",
    "in:  '$abc\\ bab\\ aba\\ ac\\ bca\\ aaa$' <br>\n",
    "out: {'$a$': ['$abc$', '$aba$', '$ac$', '$aaa$'], '$b$': ['$bab$', '$bca$']}"
   ]
  },
  {
   "cell_type": "code",
   "execution_count": null,
   "metadata": {},
   "outputs": [],
   "source": []
  },
  {
   "cell_type": "markdown",
   "metadata": {},
   "source": [
    "**Задача 16.** Написать программу, принимающую строку и выводящую словарь, в котором ключи - символы, встречающиеся в этой строке, а значения - списки индексов, по которым можно обнаружить соответственные ключи. <br>\n",
    "#### Пример.\n",
    "\n",
    "in:  '$abcookb$' <br>\n",
    "out: {'$a$': [0], '$b$': [1, 6], '$c$': [2], '$o$': [3, 4], '$k$': [5]}"
   ]
  },
  {
   "cell_type": "code",
   "execution_count": null,
   "metadata": {},
   "outputs": [],
   "source": []
  },
  {
   "cell_type": "markdown",
   "metadata": {},
   "source": [
    "## Sets"
   ]
  },
  {
   "cell_type": "markdown",
   "metadata": {},
   "source": [
    "**Задача 17**. Написать программу, принимающую список элементов и выводящую его без повторений. <br>\n",
    "#### Пример.\n",
    "\n",
    "in:  '1 2 1 3 1 4 1 5 <br>\n",
    "out: [1, 2, 3, 4, 5]"
   ]
  },
  {
   "cell_type": "code",
   "execution_count": null,
   "metadata": {},
   "outputs": [],
   "source": []
  },
  {
   "cell_type": "markdown",
   "metadata": {},
   "source": [
    "**Задача 18**. Написать программу принимающую два списка - **a** и **b** и выводящую\n",
    "- Элементы, встречающиеся и в **a** и в **b** (пересечение)\n",
    "- Элементы, встречающиеся хотя бы в одном из списков (объединение)\n",
    "- Элементы, встречающиеся в **a**, но которых нет в **b** (разность)\n",
    "- Элементы, которые есть ровно в одном из множеств."
   ]
  },
  {
   "cell_type": "code",
   "execution_count": null,
   "metadata": {},
   "outputs": [],
   "source": []
  }
 ],
 "metadata": {
  "kernelspec": {
   "display_name": "Python 3",
   "language": "python",
   "name": "python3"
  },
  "language_info": {
   "codemirror_mode": {
    "name": "ipython",
    "version": 3
   },
   "file_extension": ".py",
   "mimetype": "text/x-python",
   "name": "python",
   "nbconvert_exporter": "python",
   "pygments_lexer": "ipython3",
   "version": "3.7.6"
  }
 },
 "nbformat": 4,
 "nbformat_minor": 2
}
