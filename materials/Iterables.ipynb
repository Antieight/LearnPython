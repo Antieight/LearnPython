{
 "cells": [
  {
   "cell_type": "markdown",
   "metadata": {},
   "source": [
    "# Lists, Tuples, Dictionaries and Sets. (Списки, Кортежи, Словари и Множества)"
   ]
  },
  {
   "cell_type": "markdown",
   "metadata": {},
   "source": [
    "## Lists. Basic functions."
   ]
  },
  {
   "cell_type": "markdown",
   "metadata": {},
   "source": [
    "Чтобы хранить несколько значений в одной переменной используются списки (*lists*). Элементы списка нумеруются начиная с 0 (номер элемента иногда называют его индексом). Список записывается например так [1, 2, 'abc', True]. Как видно, в списке можно хранить значения разных типов.\n",
    "- Пустой список можно создать так **a = list()** или так: **a = []**. \n",
    "- Для добавления элемента в конец списка используется команда **append(element)**. Для удаления элемента из конца - **pop()**, которая также возвращает удаленное значение.\n",
    "- Для удаления элемента по значению можно воспользоваться коммандой **remove(element)**, но она удалит лишь первое вхождение.\n",
    "- Для того чтобы вставить элемент **o** перед некоторым индексом **i**, можно воспользоваться командой **insert(i, o)**\n",
    "- К элементам списка можно обращаться по индексам (номеру элемента в списке) следующим образом: **print(a[2])** (распечатает третий элемент, так как нумерация - с нулевого).\n",
    "- Многие функции, работающие для строк, будут работать и для списков. Например **срезы** и функции **index** (то же самое, что **find**), **count**, **reverse**, **len**.\n",
    "- На списках определено сложение: [1,2,3] + [4,5] = [1,2,3,4,5]\n",
    "- Функция **clear** для очистки списка. (эквивалентно *a = []*)\n",
    "- Функция **sort** - сортировка. (Обратная сортировка - указать параметр **reverse=True**)\n",
    "- Чтобы выполнить некоторую операцию **f** для всех элементов списка, можно воспользоваться конструкцией <br> \n",
    ".for element in arr: <br>\n",
    "....f(element) <br>\n",
    "Но этим способом нельзя изменять элементы списка.\n",
    "- Чтобы проверить, есть ли элемент в списке, можно использовать ключевое слово **in**: *(4 in [1,2,3,4,5]) = True*. Это (el in a) аналогично (a.count(el) > 0) или просто (a.count(el)). \n",
    "- **sorted(a)** - возвращает отсортированный список **a**, не изменяя **a**.\n",
    "- Для вывода суммы элементов списка чисел используется функция **sum(a)**\n",
    "- Для вывода максимального или минимального элемента - **max(a)** или **min(a)**."
   ]
  },
  {
   "cell_type": "code",
   "execution_count": 5,
   "metadata": {},
   "outputs": [
    {
     "name": "stdout",
     "output_type": "stream",
     "text": [
      "[=\t] a = [1, 2, 3, 2, True, 'hi']\n",
      "[len\t] len(a) is 6\n",
      "[append\t] appending element to the end..\n",
      "[len\t] now len(a) is 7\n",
      "\n",
      "[=\t] a = [1, 2, 3, 2, True, 'hi', 1]\n",
      "[index\t] 2 is at position 1\n",
      "[count\t] there are 2 occurences of 2 in a\n",
      "[reverse] reversing array..  (a.reverse() or a = a[::-1])\n",
      "[reverse] array after reversion is [1, 'hi', True, 2, 3, 2, 1]\n",
      "[a[]\t] changing a[-1] to 57..\n",
      "[=\t] a = [1, 'hi', True, 2, 3, 2, 57]\n",
      "[pop\t] popping element removes 57 and returns it: a.pop() = 57\n",
      "[=\t] a = [1, 'hi', True, 2, 3, 2]\n",
      "[insert\t] inserting -34 before 2: a.insert(a.index(2), -34)\n",
      "[=\t] a = [1, 'hi', True, -34, 2, 3, 2]\n",
      "[slice\t] taking slice, excluding two first elements:\n",
      "[slice\t] a = a[2:]\n",
      "[=\t] a = [True, -34, 2, 3, 2]\n",
      "[remove\t] removing element True.. (a.remove(True))\n",
      "[=\t] a = [-34, 2, 3, 2]\n",
      "[sort\t] sorting a with a.sort()\n",
      "[=\t] a = [-34, 2, 2, 3]\n",
      "[sum\t] sum(a) = -27\n",
      "[for\t] with {for} let's print each elements square:\n",
      "[for\t] 1156 4 4 9 "
     ]
    }
   ],
   "source": [
    "a = [1,2,3, 2, True, 'hi']\n",
    "print('[=\\t] a = {}'.format(a))\n",
    "print('[len\\t] len(a) is {}'.format(len(a)))\n",
    "print('[append\\t] appending element to the end..')\n",
    "a.append(1)\n",
    "print('[len\\t] now len(a) is {}'.format(len(a)))\n",
    "print()\n",
    "print('[=\\t] a = {}'.format(a))\n",
    "print('[index\\t] 2 is at position {}'.format(a.index(2)))\n",
    "print('[count\\t] there are {} occurences of 2 in a'.format(a.count(2)))\n",
    "print('[reverse] reversing array..  (a.reverse() or a = a[::-1])')\n",
    "a.reverse()\n",
    "print('[reverse] array after reversion is {}'.format(a))\n",
    "print('[a[]\\t] changing a[-1] to 57..')\n",
    "a[-1] = 57\n",
    "print('[=\\t] a = {}'.format(a))\n",
    "print('[pop\\t] popping element removes 57 and returns it: a.pop() = {}'.format(a.pop()))\n",
    "print('[=\\t] a = {}'.format(a))\n",
    "print('[insert\\t] inserting -34 before 2: a.insert(a.index(2), -34)')\n",
    "a.insert(a.index(2), -34)\n",
    "print('[=\\t] a = {}'.format(a))\n",
    "print('[slice\\t] taking slice, excluding two first elements:')\n",
    "print('[slice\\t] a = a[2:]')\n",
    "a = a[2:]\n",
    "print('[=\\t] a = {}'.format(a))\n",
    "print('[remove\\t] removing element True.. (a.remove(True))')\n",
    "a.remove(True)\n",
    "print('[=\\t] a = {}'.format(a))\n",
    "print('[sort\\t] sorting a with a.sort()')\n",
    "a.sort()\n",
    "print('[=\\t] a = {}'.format(a))\n",
    "print('[sum\\t] sum(a) = {}'.format(sum(a)))\n",
    "print('[for\\t] with {for} let\\'s print each elements square:')\n",
    "print('[for\\t]',end=' ')\n",
    "for el in a:\n",
    "    print(el**2,end = ' ')"
   ]
  },
  {
   "cell_type": "markdown",
   "metadata": {},
   "source": [
    "## Проход по списку\n",
    "Для изменения всех элементов списка определенным образом следует использовать следующий цикл:"
   ]
  },
  {
   "cell_type": "code",
   "execution_count": 2,
   "metadata": {},
   "outputs": [
    {
     "name": "stdout",
     "output_type": "stream",
     "text": [
      "\"a\" before - [1, 2, 3, 4, 5]\n",
      "\"a\" after - [3, 6, 9, 12, 15]\n"
     ]
    }
   ],
   "source": [
    "a = [1,2,3,4,5]\n",
    "print('\"a\" before - {}'.format(a))\n",
    "\n",
    "for i in range(len(a)):\n",
    "    a[i] = a[i] * 3\n",
    "\n",
    "print('\"a\" after - {}'.format(a))"
   ]
  },
  {
   "cell_type": "markdown",
   "metadata": {},
   "source": [
    "## Часто встречающиеся списки"
   ]
  },
  {
   "cell_type": "markdown",
   "metadata": {},
   "source": [
    "- Список чисел начиная с $from$, заканчивая $(to - 1)$ с шагом $step$: \n",
    "$a = list(range(from, to, step))$ <br>\n",
    "- Список символов строки: $list('abcd')$ = ['a', 'b', 'c', 'd']\n",
    "- Cписок слов строки: $s.split()$\n",
    "- Cписок слов, разделенных специальными символами: $'abc,def,gh'.split(',')$ = ['abc', 'def', 'gh']\n",
    "\n",
    "Хитрый способ инициализации списка:\n",
    "- [f(x) for x in some_list]"
   ]
  },
  {
   "cell_type": "code",
   "execution_count": 32,
   "metadata": {},
   "outputs": [
    {
     "name": "stdout",
     "output_type": "stream",
     "text": [
      "list(range(2, 31, 3)) = [2, 5, 8, 11, 14, 17, 20, 23, 26, 29]\n"
     ]
    }
   ],
   "source": [
    "print('list(range(2, 31, 3)) = {}'.format(list(range(2,31, 3))))"
   ]
  },
  {
   "cell_type": "code",
   "execution_count": 33,
   "metadata": {},
   "outputs": [
    {
     "name": "stdout",
     "output_type": "stream",
     "text": [
      "list('abcde123') = ['a', 'b', 'c', 'd', 'e', '1', '2', '3']\n"
     ]
    }
   ],
   "source": [
    "print('list(\\'abcde123\\') = {}'.format(list('abcde123')))"
   ]
  },
  {
   "cell_type": "code",
   "execution_count": 36,
   "metadata": {},
   "outputs": [
    {
     "data": {
      "text/plain": [
       "['hello,', 'world!']"
      ]
     },
     "execution_count": 36,
     "metadata": {},
     "output_type": "execute_result"
    }
   ],
   "source": [
    "'hello, world!'.split()"
   ]
  },
  {
   "cell_type": "code",
   "execution_count": 35,
   "metadata": {},
   "outputs": [
    {
     "data": {
      "text/plain": [
       "['abc', 'def', 'ghi ikl']"
      ]
     },
     "execution_count": 35,
     "metadata": {},
     "output_type": "execute_result"
    }
   ],
   "source": [
    "'abc,def,ghi ikl'.split(',')"
   ]
  },
  {
   "cell_type": "code",
   "execution_count": 37,
   "metadata": {},
   "outputs": [
    {
     "data": {
      "text/plain": [
       "[1, 4, 9, 16]"
      ]
     },
     "execution_count": 37,
     "metadata": {},
     "output_type": "execute_result"
    }
   ],
   "source": [
    "[x**2 for x in [1,2,3,4]]"
   ]
  },
  {
   "cell_type": "markdown",
   "metadata": {},
   "source": [
    "### Функция map\n",
    "В питоне есть функция, позволяющая применить функцию **f** ко всем элементам списка **a** - **map**. Синтаксис такой:"
   ]
  },
  {
   "cell_type": "code",
   "execution_count": 4,
   "metadata": {},
   "outputs": [
    {
     "name": "stdout",
     "output_type": "stream",
     "text": [
      "[1, 4, 9, 16]\n",
      "[1, 4, 9, 16]\n"
     ]
    }
   ],
   "source": [
    "def func(x):\n",
    "    return x**2\n",
    "a = [1,2,3,4]\n",
    "b = list(map(func, a))\n",
    "print(b)\n",
    "\n",
    "# following code is a shortening of previous\n",
    "b = list(map(lambda x: x**2, a))\n",
    "print(b)"
   ]
  },
  {
   "cell_type": "markdown",
   "metadata": {},
   "source": [
    "Это эквивалентно проходу по списку."
   ]
  },
  {
   "cell_type": "code",
   "execution_count": null,
   "metadata": {},
   "outputs": [],
   "source": []
  },
  {
   "cell_type": "markdown",
   "metadata": {},
   "source": [
    "## Tuples. (Кортежи)"
   ]
  },
  {
   "cell_type": "markdown",
   "metadata": {},
   "source": [
    "Кортеж - это неизменяемый список, записывается в круглых скобках вместо квадратных или без скобок. Также, когда говорят про пару или тройку значений, имеют в виду кортеж длины 2 и 3 соответственно."
   ]
  },
  {
   "cell_type": "code",
   "execution_count": 41,
   "metadata": {},
   "outputs": [
    {
     "name": "stdout",
     "output_type": "stream",
     "text": [
      "(1, 2, 3)\n",
      "False\n"
     ]
    }
   ],
   "source": [
    "a = 1,2,3\n",
    "print(a)\n",
    "print((1,2,3) == [1,2,3])"
   ]
  },
  {
   "cell_type": "code",
   "execution_count": 43,
   "metadata": {},
   "outputs": [
    {
     "name": "stdout",
     "output_type": "stream",
     "text": [
      "2\n",
      "(1, 2)\n"
     ]
    }
   ],
   "source": [
    "# can use most 'read' functions, can't use modifying functions\n",
    "print(a[1])\n",
    "print(a[:2])"
   ]
  },
  {
   "cell_type": "code",
   "execution_count": 44,
   "metadata": {},
   "outputs": [
    {
     "ename": "TypeError",
     "evalue": "'tuple' object does not support item assignment",
     "output_type": "error",
     "traceback": [
      "\u001b[0;31m---------------------------------------------------------------------------\u001b[0m",
      "\u001b[0;31mTypeError\u001b[0m                                 Traceback (most recent call last)",
      "\u001b[0;32m<ipython-input-44-d768fd713f88>\u001b[0m in \u001b[0;36m<module>\u001b[0;34m()\u001b[0m\n\u001b[0;32m----> 1\u001b[0;31m \u001b[0ma\u001b[0m\u001b[0;34m[\u001b[0m\u001b[0;36m1\u001b[0m\u001b[0;34m]\u001b[0m \u001b[0;34m=\u001b[0m \u001b[0;36m0\u001b[0m\u001b[0;34m\u001b[0m\u001b[0m\n\u001b[0m",
      "\u001b[0;31mTypeError\u001b[0m: 'tuple' object does not support item assignment"
     ]
    }
   ],
   "source": [
    "a[1] = 0"
   ]
  },
  {
   "cell_type": "markdown",
   "metadata": {},
   "source": [
    "Появляется вопрос - зачем нужны такие 'недосписки'? Одним из приемуществ является то, что кортежи могут выступать в качестве ключей в словаре из-за свойства неизменяемости."
   ]
  },
  {
   "cell_type": "markdown",
   "metadata": {},
   "source": [
    "## Dictionaries. (Словари)"
   ]
  },
  {
   "cell_type": "markdown",
   "metadata": {},
   "source": [
    "Словари - это те же списки, но элементы теперь могут нумероваться не только числами, но и строками, кортежами и прочими неизменяемыми элементами. То, что раньше было номером элемента, теперь называется ключом (key). Эта структура данных называется словарем, так как в настоящих словарях (например англо-русских) используется эта же структура - {слово:перевод}."
   ]
  },
  {
   "cell_type": "markdown",
   "metadata": {},
   "source": [
    "- Объявление пустого словаря: a = dict() или a = {}\n",
    "- Объявление словаря с заданными ключами и значениями: a = {1: 2, 'a': 10, -1: 'bcd'}\n",
    "- Добавление нового элемента - a[key] = value\n",
    "- Получение значения по ключу - a[key] или a.get(key)\n",
    "- Размер словаря - len(a). (Размер - колличество пар \"ключ-значение\")\n",
    "- Проверка, что по ключу key есть какое-то value: (key in a.keys()) или просто (key in a).\n",
    "- Проверка, что данное значение value находится по какому-то ключу в словаре a - (value in a.values())\n",
    "- a.pop(key) удаляет этот ключ из словаря, возвращая значение, находящееся по этому ключу.\n",
    "- a.popitem() удаляет какой-то ключ, возвращая пару \"ключ-значение\", находящееся по этому ключу."
   ]
  },
  {
   "cell_type": "code",
   "execution_count": 13,
   "metadata": {},
   "outputs": [
    {
     "name": "stdout",
     "output_type": "stream",
     "text": [
      "{1: 50, 4: 'abc'}\n"
     ]
    }
   ],
   "source": [
    "a = dict()\n",
    "a[1] = 50\n",
    "a[4] = 'abc'\n",
    "print(a)"
   ]
  },
  {
   "cell_type": "code",
   "execution_count": 14,
   "metadata": {},
   "outputs": [
    {
     "ename": "TypeError",
     "evalue": "unhashable type: 'list'",
     "output_type": "error",
     "traceback": [
      "\u001b[0;31m---------------------------------------------------------------------------\u001b[0m",
      "\u001b[0;31mTypeError\u001b[0m                                 Traceback (most recent call last)",
      "\u001b[0;32m<ipython-input-14-57525c5946fb>\u001b[0m in \u001b[0;36m<module>\u001b[0;34m()\u001b[0m\n\u001b[0;32m----> 1\u001b[0;31m \u001b[0ma\u001b[0m\u001b[0;34m[\u001b[0m\u001b[0;34m[\u001b[0m\u001b[0;36m1\u001b[0m\u001b[0;34m,\u001b[0m\u001b[0;36m2\u001b[0m\u001b[0;34m]\u001b[0m\u001b[0;34m]\u001b[0m \u001b[0;34m=\u001b[0m \u001b[0;36m3\u001b[0m\u001b[0;34m\u001b[0m\u001b[0m\n\u001b[0m\u001b[1;32m      2\u001b[0m \u001b[0mprint\u001b[0m\u001b[0;34m(\u001b[0m\u001b[0ma\u001b[0m\u001b[0;34m)\u001b[0m\u001b[0;34m\u001b[0m\u001b[0m\n",
      "\u001b[0;31mTypeError\u001b[0m: unhashable type: 'list'"
     ]
    }
   ],
   "source": [
    "a[[1,2]] = 3\n",
    "print(a)"
   ]
  },
  {
   "cell_type": "code",
   "execution_count": 15,
   "metadata": {},
   "outputs": [
    {
     "name": "stdout",
     "output_type": "stream",
     "text": [
      "{1: 50, 4: 'abc', (1, 2): 3}\n"
     ]
    }
   ],
   "source": [
    "a[(1,2)] = 3\n",
    "print(a)"
   ]
  },
  {
   "cell_type": "code",
   "execution_count": 16,
   "metadata": {},
   "outputs": [
    {
     "name": "stdout",
     "output_type": "stream",
     "text": [
      "((1, 2), 3)\n",
      "{1: 50, 4: 'abc'}\n",
      "len is 2\n"
     ]
    }
   ],
   "source": [
    "print(a.popitem())\n",
    "print(a)\n",
    "print('len is {}'.format(len(a)))"
   ]
  },
  {
   "cell_type": "code",
   "execution_count": 19,
   "metadata": {},
   "outputs": [
    {
     "name": "stdout",
     "output_type": "stream",
     "text": [
      "True\n",
      "True\n"
     ]
    }
   ],
   "source": [
    "print(1 in a.keys())\n",
    "print('abc' in a.values())"
   ]
  },
  {
   "cell_type": "markdown",
   "metadata": {},
   "source": [
    "Хитрый способ инициализации словаря: {f(a) : g(a) for a in some_list}"
   ]
  },
  {
   "cell_type": "code",
   "execution_count": 20,
   "metadata": {},
   "outputs": [
    {
     "data": {
      "text/plain": [
       "{1: 'a', 2: 'aa', 3: 'aaa'}"
      ]
     },
     "execution_count": 20,
     "metadata": {},
     "output_type": "execute_result"
    }
   ],
   "source": [
    "{x:'a'*x for x in range(1, 4)}"
   ]
  },
  {
   "cell_type": "markdown",
   "metadata": {},
   "source": [
    "# Sets. (Множества)"
   ]
  },
  {
   "cell_type": "markdown",
   "metadata": {},
   "source": [
    "Множества - это неупорядоченные списки, которые умеют хранить только неизменяемые элементы. Множество умеет лишь отвечать на вопрос \"Принадлежит ли ему данный элемент\", но в силу перечисленных ограничений делает это намного быстрее списков. Так же на множествах определены операции пересечения, объединения и разности, которые определяются как в математике (см. ниже). Обратите внимание, что множество определяется элементами, которые содержит, поэтому в нем (в его записи) нет \"повторяющихся элементов\". {1,1,1,1,1} = {1}\n",
    "### Синтаксис\n",
    "- a = {1,2,3}  - множество из трех элементов\n",
    "- a.add(4)     - так можно добавить элемент в множество\n",
    "- a.discard(3) - так можно удалить элемент из множества. Если элемент и так не лежит в множестве, ничего не произойдет.\n",
    "- a.remove(3)  - так можно удалить элемент из множества, если он ему принадлежит. Если это не так, будет ошибка.\n",
    "- a & b        - операция пересечения. Элемент принадлежит **a** & **b**, только если он принадлежит и **a** и **b**\n",
    "- a | b        - операция объединения. Элемент принадлежит **a** | **b**, только если он принадлежит хотя бы одному из **a** и **b**\n",
    "- a - b        - операция разности. Элемент принадлежит **a** - **b**, если он есть в **a**, но его нет в **b**\n",
    "- a.issubset(b) - проверка на то, что **a** - подмножество множества **b**, то есть все элементы, которые есть в **a**, есть также и в **b**\n",
    "- a.issuperset(b) := b.issubset(a)"
   ]
  },
  {
   "cell_type": "code",
   "execution_count": 1,
   "metadata": {},
   "outputs": [
    {
     "name": "stdout",
     "output_type": "stream",
     "text": [
      "{1, 2, 3, 4}\n",
      "4\n"
     ]
    }
   ],
   "source": [
    "a = {1,2,3,3}\n",
    "a.add(4)\n",
    "print(a)\n",
    "print(len(a))"
   ]
  },
  {
   "cell_type": "code",
   "execution_count": 23,
   "metadata": {},
   "outputs": [
    {
     "name": "stdout",
     "output_type": "stream",
     "text": [
      "a = {2, 3, 4}\n",
      "b = {1, 4, 5}\n",
      "a & b = {4}\n",
      "a | b = {1, 2, 3, 4, 5}\n",
      "a - b = {2, 3}\n"
     ]
    }
   ],
   "source": [
    "a.discard(1)\n",
    "b = {1, 4, 5}\n",
    "print('a = {}'.format(a))\n",
    "print('b = {}'.format(b))\n",
    "print('a & b = {}'.format(a & b))\n",
    "print('a | b = {}'.format(a | b))\n",
    "print('a - b = {}'.format(a - b))"
   ]
  },
  {
   "cell_type": "code",
   "execution_count": 24,
   "metadata": {},
   "outputs": [
    {
     "name": "stdout",
     "output_type": "stream",
     "text": [
      "True\n"
     ]
    }
   ],
   "source": [
    "print({1,2,3}.issubset({1,2,3,4,5}))"
   ]
  },
  {
   "cell_type": "markdown",
   "metadata": {},
   "source": [
    "Хитрый способ инициализации множества: {f(i) for i in some_list}"
   ]
  },
  {
   "cell_type": "code",
   "execution_count": 27,
   "metadata": {},
   "outputs": [
    {
     "data": {
      "text/plain": [
       "{'hello Andrew!', 'hello John!', 'hello Tim!'}"
      ]
     },
     "execution_count": 27,
     "metadata": {},
     "output_type": "execute_result"
    }
   ],
   "source": [
    "{'hello ' + name + '!' for name in {'John', 'Andrew', 'Tim'}}"
   ]
  },
  {
   "cell_type": "markdown",
   "metadata": {},
   "source": [
    "## Приведение типов."
   ]
  },
  {
   "cell_type": "markdown",
   "metadata": {},
   "source": [
    "Если у вас есть переменная типа type1, то всегда можно попросить Питон привести ее к типу type2 (попытаться изменить тип) командой new_variable = type2(old_variable). Если это действие имеет смысл, то Питон скорее всего сможет это сделать. Например список можно привести к кортежу или к множеству, т.к. типы \"множество\", \"список\" и \"кортеж\" очень похожи."
   ]
  },
  {
   "cell_type": "code",
   "execution_count": 36,
   "metadata": {},
   "outputs": [
    {
     "name": "stdout",
     "output_type": "stream",
     "text": [
      "a is [1, 2, 3, 4, 3, 2, 1]\n",
      "set(a) is {1, 2, 3, 4}\n",
      "tuple(a) is (1, 2, 3, 4, 3, 2, 1)\n",
      "list({1,2,3,4}) = [1, 2, 3, 4]\n",
      "list({1,1,1,2}) = [1, 2]\n"
     ]
    }
   ],
   "source": [
    "a = [1,2,3,4,3,2,1]\n",
    "print('a is {}'.format(a))\n",
    "print('set(a) is {}'.format(set(a)))\n",
    "print('tuple(a) is {}'.format(tuple(a)))\n",
    "print('list({1,2,3,4}) = ' + str(list({1,2,3,4})))\n",
    "print('list({1,1,1,2}) = ' + str(list({1,1, 1,2})))"
   ]
  },
  {
   "cell_type": "markdown",
   "metadata": {},
   "source": [
    "Но число нельзя привести к типу список, так как не вполне понятно, что получится: list(43) = [4,3] или list(43) = [43]. Операция неинтуитивная."
   ]
  },
  {
   "cell_type": "code",
   "execution_count": 32,
   "metadata": {},
   "outputs": [
    {
     "ename": "TypeError",
     "evalue": "'int' object is not iterable",
     "output_type": "error",
     "traceback": [
      "\u001b[0;31m---------------------------------------------------------------------------\u001b[0m",
      "\u001b[0;31mTypeError\u001b[0m                                 Traceback (most recent call last)",
      "\u001b[0;32m<ipython-input-32-b7a45bcb8207>\u001b[0m in \u001b[0;36m<module>\u001b[0;34m()\u001b[0m\n\u001b[0;32m----> 1\u001b[0;31m \u001b[0mlist\u001b[0m\u001b[0;34m(\u001b[0m\u001b[0;36m51\u001b[0m\u001b[0;34m)\u001b[0m\u001b[0;34m\u001b[0m\u001b[0m\n\u001b[0m",
      "\u001b[0;31mTypeError\u001b[0m: 'int' object is not iterable"
     ]
    }
   ],
   "source": [
    "list(51)"
   ]
  },
  {
   "cell_type": "markdown",
   "metadata": {},
   "source": [
    "При приведении словаря к типам list, tuple, set мы получим список, кортеж или массив ключей соответственно. "
   ]
  },
  {
   "cell_type": "code",
   "execution_count": 1,
   "metadata": {},
   "outputs": [
    {
     "name": "stdout",
     "output_type": "stream",
     "text": [
      "[1, 2]\n",
      "{1, 2}\n"
     ]
    }
   ],
   "source": [
    "a = {1:2, 2:3}\n",
    "print(list(a))\n",
    "print(set(a))"
   ]
  },
  {
   "cell_type": "markdown",
   "metadata": {},
   "source": [
    "Получить словарь можно передав в функцию dict список (или кортеж или множество) пар."
   ]
  },
  {
   "cell_type": "code",
   "execution_count": 2,
   "metadata": {},
   "outputs": [
    {
     "name": "stdout",
     "output_type": "stream",
     "text": [
      "{1: 2, 3: 4}\n",
      "{1: 2, 3: 4}\n",
      "{1: 2, 3: 4}\n"
     ]
    }
   ],
   "source": [
    "print(dict([(1,2), (3,4)]))\n",
    "print(dict(((1,2), (3,4))))\n",
    "print(dict({(1,2), (3,4)}))"
   ]
  },
  {
   "cell_type": "code",
   "execution_count": null,
   "metadata": {},
   "outputs": [],
   "source": []
  }
 ],
 "metadata": {
  "kernelspec": {
   "display_name": "Python 3",
   "language": "python",
   "name": "python3"
  },
  "language_info": {
   "codemirror_mode": {
    "name": "ipython",
    "version": 3
   },
   "file_extension": ".py",
   "mimetype": "text/x-python",
   "name": "python",
   "nbconvert_exporter": "python",
   "pygments_lexer": "ipython3",
   "version": "3.7.6"
  }
 },
 "nbformat": 4,
 "nbformat_minor": 2
}
